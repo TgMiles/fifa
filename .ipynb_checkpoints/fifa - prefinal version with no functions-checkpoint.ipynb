{
 "cells": [
  {
   "cell_type": "markdown",
   "id": "982540e0-7d4e-417f-aed9-7a34476b12bb",
   "metadata": {},
   "source": [
    "# Imports"
   ]
  },
  {
   "cell_type": "code",
   "execution_count": 50,
   "id": "b72465eb-a933-4f77-82db-c32593780991",
   "metadata": {},
   "outputs": [],
   "source": [
    "import pandas as pd\n",
    "import numpy as np\n",
    "import statistics as stats"
   ]
  },
  {
   "cell_type": "markdown",
   "id": "b49225c7-8359-442d-b9db-2d1438fdcfa9",
   "metadata": {},
   "source": [
    "# Basic Analysis & Cleaning Data"
   ]
  },
  {
   "cell_type": "markdown",
   "id": "03de1eb9-fe63-4346-adb3-e0187489e023",
   "metadata": {},
   "source": [
    "## Basic Analysis"
   ]
  },
  {
   "cell_type": "code",
   "execution_count": 51,
   "id": "04c27d89-96b8-47eb-a95e-b69cec86d47e",
   "metadata": {},
   "outputs": [],
   "source": [
    "df = pd.read_csv('fifa21_train.csv')"
   ]
  },
  {
   "cell_type": "code",
   "execution_count": 52,
   "id": "433dce7f-94c1-40fe-87ee-0a73284cac18",
   "metadata": {},
   "outputs": [
    {
     "data": {
      "text/plain": [
       "(11701, 101)"
      ]
     },
     "execution_count": 52,
     "metadata": {},
     "output_type": "execute_result"
    }
   ],
   "source": [
    "df.shape"
   ]
  },
  {
   "cell_type": "code",
   "execution_count": 53,
   "id": "0efb5ad3-7ffb-4701-a650-ba48699d03b3",
   "metadata": {},
   "outputs": [
    {
     "data": {
      "text/html": [
       "<div>\n",
       "<style scoped>\n",
       "    .dataframe tbody tr th:only-of-type {\n",
       "        vertical-align: middle;\n",
       "    }\n",
       "\n",
       "    .dataframe tbody tr th {\n",
       "        vertical-align: top;\n",
       "    }\n",
       "\n",
       "    .dataframe thead th {\n",
       "        text-align: right;\n",
       "    }\n",
       "</style>\n",
       "<table border=\"1\" class=\"dataframe\">\n",
       "  <thead>\n",
       "    <tr style=\"text-align: right;\">\n",
       "      <th></th>\n",
       "      <th>ID</th>\n",
       "      <th>Name</th>\n",
       "      <th>Age</th>\n",
       "      <th>Nationality</th>\n",
       "      <th>Club</th>\n",
       "      <th>BP</th>\n",
       "      <th>Position</th>\n",
       "      <th>Team &amp; Contract</th>\n",
       "      <th>Height</th>\n",
       "      <th>Weight</th>\n",
       "      <th>...</th>\n",
       "      <th>CDM</th>\n",
       "      <th>RDM</th>\n",
       "      <th>RWB</th>\n",
       "      <th>LB</th>\n",
       "      <th>LCB</th>\n",
       "      <th>CB</th>\n",
       "      <th>RCB</th>\n",
       "      <th>RB</th>\n",
       "      <th>GK</th>\n",
       "      <th>OVA</th>\n",
       "    </tr>\n",
       "  </thead>\n",
       "  <tbody>\n",
       "    <tr>\n",
       "      <th>0</th>\n",
       "      <td>184383</td>\n",
       "      <td>A. Pasche</td>\n",
       "      <td>26</td>\n",
       "      <td>Switzerland</td>\n",
       "      <td>FC Lausanne-Sport</td>\n",
       "      <td>CM</td>\n",
       "      <td>CM CDM</td>\n",
       "      <td>FC Lausanne-Sport 2015 ~ 2020</td>\n",
       "      <td>5'9\"</td>\n",
       "      <td>161lbs</td>\n",
       "      <td>...</td>\n",
       "      <td>59+1</td>\n",
       "      <td>59+1</td>\n",
       "      <td>59+1</td>\n",
       "      <td>58+1</td>\n",
       "      <td>54+1</td>\n",
       "      <td>54+1</td>\n",
       "      <td>54+1</td>\n",
       "      <td>58+1</td>\n",
       "      <td>15+1</td>\n",
       "      <td>64</td>\n",
       "    </tr>\n",
       "    <tr>\n",
       "      <th>1</th>\n",
       "      <td>188044</td>\n",
       "      <td>Alan Carvalho</td>\n",
       "      <td>30</td>\n",
       "      <td>China PR</td>\n",
       "      <td>Beijing Sinobo Guoan FC</td>\n",
       "      <td>ST</td>\n",
       "      <td>ST LW LM</td>\n",
       "      <td>Beijing Sinobo Guoan FC Dec 31, 2020 On Loan</td>\n",
       "      <td>6'0\"</td>\n",
       "      <td>159lbs</td>\n",
       "      <td>...</td>\n",
       "      <td>53+2</td>\n",
       "      <td>53+2</td>\n",
       "      <td>57+2</td>\n",
       "      <td>53+2</td>\n",
       "      <td>48+2</td>\n",
       "      <td>48+2</td>\n",
       "      <td>48+2</td>\n",
       "      <td>53+2</td>\n",
       "      <td>18+2</td>\n",
       "      <td>77</td>\n",
       "    </tr>\n",
       "    <tr>\n",
       "      <th>2</th>\n",
       "      <td>184431</td>\n",
       "      <td>S. Giovinco</td>\n",
       "      <td>33</td>\n",
       "      <td>Italy</td>\n",
       "      <td>Al Hilal</td>\n",
       "      <td>CAM</td>\n",
       "      <td>CAM CF</td>\n",
       "      <td>Al Hilal 2019 ~ 2022</td>\n",
       "      <td>5'4\"</td>\n",
       "      <td>134lbs</td>\n",
       "      <td>...</td>\n",
       "      <td>56+2</td>\n",
       "      <td>56+2</td>\n",
       "      <td>59+2</td>\n",
       "      <td>53+2</td>\n",
       "      <td>41+2</td>\n",
       "      <td>41+2</td>\n",
       "      <td>41+2</td>\n",
       "      <td>53+2</td>\n",
       "      <td>12+2</td>\n",
       "      <td>80</td>\n",
       "    </tr>\n",
       "    <tr>\n",
       "      <th>3</th>\n",
       "      <td>233796</td>\n",
       "      <td>J. Evans</td>\n",
       "      <td>22</td>\n",
       "      <td>Wales</td>\n",
       "      <td>Swansea City</td>\n",
       "      <td>CDM</td>\n",
       "      <td>CDM CM</td>\n",
       "      <td>Swansea City 2016 ~ 2021</td>\n",
       "      <td>5'10\"</td>\n",
       "      <td>152lbs</td>\n",
       "      <td>...</td>\n",
       "      <td>58+2</td>\n",
       "      <td>58+2</td>\n",
       "      <td>56+2</td>\n",
       "      <td>57+2</td>\n",
       "      <td>58+2</td>\n",
       "      <td>58+2</td>\n",
       "      <td>58+2</td>\n",
       "      <td>57+2</td>\n",
       "      <td>14+2</td>\n",
       "      <td>59</td>\n",
       "    </tr>\n",
       "    <tr>\n",
       "      <th>4</th>\n",
       "      <td>234799</td>\n",
       "      <td>Y. Demoncy</td>\n",
       "      <td>23</td>\n",
       "      <td>France</td>\n",
       "      <td>US Orléans Loiret Football</td>\n",
       "      <td>CDM</td>\n",
       "      <td>CDM CM</td>\n",
       "      <td>US Orléans Loiret Football 2018 ~ 2021</td>\n",
       "      <td>5'11\"</td>\n",
       "      <td>150lbs</td>\n",
       "      <td>...</td>\n",
       "      <td>64+2</td>\n",
       "      <td>64+2</td>\n",
       "      <td>64+2</td>\n",
       "      <td>63+2</td>\n",
       "      <td>61+2</td>\n",
       "      <td>61+2</td>\n",
       "      <td>61+2</td>\n",
       "      <td>63+2</td>\n",
       "      <td>15+2</td>\n",
       "      <td>65</td>\n",
       "    </tr>\n",
       "  </tbody>\n",
       "</table>\n",
       "<p>5 rows × 101 columns</p>\n",
       "</div>"
      ],
      "text/plain": [
       "       ID           Name  Age  Nationality                        Club   BP  \\\n",
       "0  184383      A. Pasche   26  Switzerland           FC Lausanne-Sport   CM   \n",
       "1  188044  Alan Carvalho   30     China PR     Beijing Sinobo Guoan FC   ST   \n",
       "2  184431    S. Giovinco   33        Italy                    Al Hilal  CAM   \n",
       "3  233796       J. Evans   22        Wales                Swansea City  CDM   \n",
       "4  234799     Y. Demoncy   23       France  US Orléans Loiret Football  CDM   \n",
       "\n",
       "   Position                               Team & Contract Height  Weight  ...  \\\n",
       "0    CM CDM                 FC Lausanne-Sport 2015 ~ 2020   5'9\"  161lbs  ...   \n",
       "1  ST LW LM  Beijing Sinobo Guoan FC Dec 31, 2020 On Loan   6'0\"  159lbs  ...   \n",
       "2    CAM CF                          Al Hilal 2019 ~ 2022   5'4\"  134lbs  ...   \n",
       "3    CDM CM                      Swansea City 2016 ~ 2021  5'10\"  152lbs  ...   \n",
       "4    CDM CM        US Orléans Loiret Football 2018 ~ 2021  5'11\"  150lbs  ...   \n",
       "\n",
       "    CDM   RDM   RWB    LB   LCB    CB   RCB    RB    GK  OVA  \n",
       "0  59+1  59+1  59+1  58+1  54+1  54+1  54+1  58+1  15+1   64  \n",
       "1  53+2  53+2  57+2  53+2  48+2  48+2  48+2  53+2  18+2   77  \n",
       "2  56+2  56+2  59+2  53+2  41+2  41+2  41+2  53+2  12+2   80  \n",
       "3  58+2  58+2  56+2  57+2  58+2  58+2  58+2  57+2  14+2   59  \n",
       "4  64+2  64+2  64+2  63+2  61+2  61+2  61+2  63+2  15+2   65  \n",
       "\n",
       "[5 rows x 101 columns]"
      ]
     },
     "execution_count": 53,
     "metadata": {},
     "output_type": "execute_result"
    }
   ],
   "source": [
    "df.head()"
   ]
  },
  {
   "cell_type": "code",
   "execution_count": 54,
   "id": "6b24a8cf-bc71-4f11-911a-aaf48e68a901",
   "metadata": {},
   "outputs": [],
   "source": [
    "# Standarize header\n",
    "df.drop(['ID'], axis=1, inplace=True)\n",
    "df.columns= df.columns.str.lower().str.replace(' ', '_')\n",
    "df.columns= df.columns.str.lower().str.replace('/', '_')\n",
    "df.columns= df.columns.str.lower().str.replace('&', 'and')"
   ]
  },
  {
   "cell_type": "code",
   "execution_count": 55,
   "id": "93d44001-7dc2-484d-8b5e-aefd0246bbd8",
   "metadata": {},
   "outputs": [
    {
     "data": {
      "text/plain": [
       "Index(['name', 'age', 'nationality', 'club', 'bp', 'position',\n",
       "       'team_and_contract', 'height', 'weight', 'foot', 'growth', 'joined',\n",
       "       'loan_date_end', 'value', 'wage', 'release_clause', 'contract',\n",
       "       'attacking', 'crossing', 'finishing', 'heading_accuracy',\n",
       "       'short_passing', 'volleys', 'skill', 'dribbling', 'curve',\n",
       "       'fk_accuracy', 'long_passing', 'ball_control', 'movement',\n",
       "       'acceleration', 'sprint_speed', 'agility', 'reactions', 'balance',\n",
       "       'power', 'shot_power', 'jumping', 'stamina', 'strength', 'long_shots',\n",
       "       'mentality', 'aggression', 'interceptions', 'positioning', 'vision',\n",
       "       'penalties', 'composure', 'defending', 'marking', 'standing_tackle',\n",
       "       'sliding_tackle', 'goalkeeping', 'gk_diving', 'gk_handling',\n",
       "       'gk_kicking', 'gk_positioning', 'gk_reflexes', 'total_stats',\n",
       "       'base_stats', 'w_f', 'sm', 'a_w', 'd_w', 'ir', 'pac', 'sho', 'pas',\n",
       "       'dri', 'def', 'phy', 'hits', 'ls', 'st', 'rs', 'lw', 'lf', 'cf', 'rf',\n",
       "       'rw', 'lam', 'cam', 'ram', 'lm', 'lcm', 'cm', 'rcm', 'rm', 'lwb', 'ldm',\n",
       "       'cdm', 'rdm', 'rwb', 'lb', 'lcb', 'cb', 'rcb', 'rb', 'gk', 'ova'],\n",
       "      dtype='object')"
      ]
     },
     "execution_count": 55,
     "metadata": {},
     "output_type": "execute_result"
    }
   ],
   "source": [
    "df.columns"
   ]
  },
  {
   "cell_type": "code",
   "execution_count": 56,
   "id": "cabccb25-b8fc-4396-b57c-20773193cd95",
   "metadata": {},
   "outputs": [],
   "source": [
    "# df.describe().T"
   ]
  },
  {
   "cell_type": "markdown",
   "id": "f766ccf2-57c6-4f72-867d-162d05d3a25c",
   "metadata": {
    "tags": []
   },
   "source": [
    "## Dropping columns with no information"
   ]
  },
  {
   "cell_type": "code",
   "execution_count": 57,
   "id": "9c28be3c-a751-4994-b372-117e08c7ee74",
   "metadata": {},
   "outputs": [
    {
     "data": {
      "text/plain": [
       "True    11701\n",
       "dtype: int64"
      ]
     },
     "execution_count": 57,
     "metadata": {},
     "output_type": "execute_result"
    }
   ],
   "source": [
    "same = df['lf'] == df['rf']\n",
    "same.value_counts()"
   ]
  },
  {
   "cell_type": "code",
   "execution_count": 58,
   "id": "a980c69c-6f01-496c-81a1-5d42558d6f08",
   "metadata": {},
   "outputs": [
    {
     "data": {
      "text/plain": [
       "True    11701\n",
       "dtype: int64"
      ]
     },
     "execution_count": 58,
     "metadata": {},
     "output_type": "execute_result"
    }
   ],
   "source": [
    "same = df['lf'] == df['cf']  \n",
    "same.value_counts()"
   ]
  },
  {
   "cell_type": "code",
   "execution_count": 59,
   "id": "3c62d0c7-fc75-42e8-b748-b00d298fa3d2",
   "metadata": {},
   "outputs": [],
   "source": [
    "df.drop(['lf', 'rf'], axis=1, inplace=True)"
   ]
  },
  {
   "cell_type": "code",
   "execution_count": 60,
   "id": "205e5aac-2b1f-4df3-a549-f3249e564af9",
   "metadata": {},
   "outputs": [
    {
     "data": {
      "text/plain": [
       "True    11701\n",
       "dtype: int64"
      ]
     },
     "execution_count": 60,
     "metadata": {},
     "output_type": "execute_result"
    }
   ],
   "source": [
    "same = df['ls'] == df['st']  \n",
    "same.value_counts()"
   ]
  },
  {
   "cell_type": "code",
   "execution_count": 61,
   "id": "955a8a28-6811-428c-9e42-aefaeb441290",
   "metadata": {},
   "outputs": [
    {
     "data": {
      "text/plain": [
       "True    11701\n",
       "dtype: int64"
      ]
     },
     "execution_count": 61,
     "metadata": {},
     "output_type": "execute_result"
    }
   ],
   "source": [
    "same = df['ls'] == df['rs']  \n",
    "same.value_counts()"
   ]
  },
  {
   "cell_type": "code",
   "execution_count": 62,
   "id": "e71c374f-f1c9-41ce-9ce6-0f3f78de6b9c",
   "metadata": {},
   "outputs": [],
   "source": [
    "df.drop(['ls', 'rs'], axis=1, inplace=True)"
   ]
  },
  {
   "cell_type": "code",
   "execution_count": 63,
   "id": "17fd74a6-8c60-488b-a404-96279b21409d",
   "metadata": {},
   "outputs": [
    {
     "data": {
      "text/plain": [
       "True    11701\n",
       "dtype: int64"
      ]
     },
     "execution_count": 63,
     "metadata": {},
     "output_type": "execute_result"
    }
   ],
   "source": [
    "same = df['lam'] == df['ram']  \n",
    "same.value_counts()"
   ]
  },
  {
   "cell_type": "code",
   "execution_count": 64,
   "id": "f6378846-a94b-46c2-bbd0-809e97bfd10a",
   "metadata": {},
   "outputs": [
    {
     "data": {
      "text/plain": [
       "True    11701\n",
       "dtype: int64"
      ]
     },
     "execution_count": 64,
     "metadata": {},
     "output_type": "execute_result"
    }
   ],
   "source": [
    "same = df['lam'] == df['cam']  \n",
    "same.value_counts()"
   ]
  },
  {
   "cell_type": "code",
   "execution_count": 65,
   "id": "e267aa83-1c60-4c4b-9a58-c2a2ed0755c1",
   "metadata": {},
   "outputs": [],
   "source": [
    "df.drop(['lam', 'ram'], axis=1, inplace=True)"
   ]
  },
  {
   "cell_type": "code",
   "execution_count": 66,
   "id": "c6e551fe-d190-4445-bc78-8ddfbf2b6d2d",
   "metadata": {},
   "outputs": [
    {
     "data": {
      "text/plain": [
       "True    11701\n",
       "dtype: int64"
      ]
     },
     "execution_count": 66,
     "metadata": {},
     "output_type": "execute_result"
    }
   ],
   "source": [
    "same = df['lm'] == df['rm']  \n",
    "same.value_counts()"
   ]
  },
  {
   "cell_type": "code",
   "execution_count": 67,
   "id": "ab54786b-54e4-43d8-b07e-378fe5756cab",
   "metadata": {},
   "outputs": [],
   "source": [
    "df.drop(['rm'], axis=1, inplace=True)"
   ]
  },
  {
   "cell_type": "code",
   "execution_count": 68,
   "id": "d9452dbc-8816-464f-9f7c-4ab5c4afd3f1",
   "metadata": {},
   "outputs": [
    {
     "data": {
      "text/plain": [
       "True    11701\n",
       "dtype: int64"
      ]
     },
     "execution_count": 68,
     "metadata": {},
     "output_type": "execute_result"
    }
   ],
   "source": [
    "same = df['lcm'] == df['rcm']  \n",
    "same.value_counts()"
   ]
  },
  {
   "cell_type": "code",
   "execution_count": 69,
   "id": "1a55f6d3-77ea-4c5a-8526-42b63e091eb3",
   "metadata": {},
   "outputs": [
    {
     "data": {
      "text/plain": [
       "True    11701\n",
       "dtype: int64"
      ]
     },
     "execution_count": 69,
     "metadata": {},
     "output_type": "execute_result"
    }
   ],
   "source": [
    "same = df['cm'] == df['rcm']  \n",
    "same.value_counts()"
   ]
  },
  {
   "cell_type": "code",
   "execution_count": 70,
   "id": "18e77783-7bba-44ee-ae20-e993df9ccb7b",
   "metadata": {},
   "outputs": [],
   "source": [
    "df.drop(['rcm', 'lcm'], axis=1, inplace=True)"
   ]
  },
  {
   "cell_type": "code",
   "execution_count": 71,
   "id": "c36c327f-af8b-4ca0-9d4d-2d56c1bd8272",
   "metadata": {},
   "outputs": [
    {
     "data": {
      "text/plain": [
       "True    11701\n",
       "dtype: int64"
      ]
     },
     "execution_count": 71,
     "metadata": {},
     "output_type": "execute_result"
    }
   ],
   "source": [
    "same = df['ldm'] == df['rdm']  \n",
    "same.value_counts()"
   ]
  },
  {
   "cell_type": "code",
   "execution_count": 72,
   "id": "01857260-e39f-45b8-ba3c-1607ae22575f",
   "metadata": {},
   "outputs": [
    {
     "data": {
      "text/plain": [
       "True    11701\n",
       "dtype: int64"
      ]
     },
     "execution_count": 72,
     "metadata": {},
     "output_type": "execute_result"
    }
   ],
   "source": [
    "same = df['ldm'] == df['cdm']  \n",
    "same.value_counts()"
   ]
  },
  {
   "cell_type": "code",
   "execution_count": 73,
   "id": "aff76883-34c8-4ce9-aa64-0f65034ed1ca",
   "metadata": {},
   "outputs": [],
   "source": [
    "df.drop(['rdm', 'ldm'], axis=1, inplace=True)"
   ]
  },
  {
   "cell_type": "code",
   "execution_count": 74,
   "id": "bc8e238b-9424-40d7-ba1d-d62c2e7949f4",
   "metadata": {},
   "outputs": [
    {
     "data": {
      "text/plain": [
       "True    11701\n",
       "dtype: int64"
      ]
     },
     "execution_count": 74,
     "metadata": {},
     "output_type": "execute_result"
    }
   ],
   "source": [
    "same = df['lwb'] == df['rwb']  \n",
    "same.value_counts()"
   ]
  },
  {
   "cell_type": "code",
   "execution_count": 75,
   "id": "1037b6ed-818b-494d-9101-50276cac2723",
   "metadata": {},
   "outputs": [],
   "source": [
    "df.drop(['rwb'], axis=1, inplace=True)"
   ]
  },
  {
   "cell_type": "code",
   "execution_count": 76,
   "id": "526d00b0-7663-4a50-a18a-b5869cbf3e85",
   "metadata": {},
   "outputs": [
    {
     "data": {
      "text/plain": [
       "True    11701\n",
       "dtype: int64"
      ]
     },
     "execution_count": 76,
     "metadata": {},
     "output_type": "execute_result"
    }
   ],
   "source": [
    "same = df['lb'] == df['rb']  \n",
    "same.value_counts()"
   ]
  },
  {
   "cell_type": "code",
   "execution_count": 77,
   "id": "3a7573b6-97b7-4dec-986f-6ead6c37b829",
   "metadata": {},
   "outputs": [],
   "source": [
    "df.drop(['rb'], axis=1, inplace=True)"
   ]
  },
  {
   "cell_type": "code",
   "execution_count": 78,
   "id": "2124f912-cb05-44fb-bffa-8b89c5a6b5f9",
   "metadata": {},
   "outputs": [
    {
     "data": {
      "text/plain": [
       "True    11701\n",
       "dtype: int64"
      ]
     },
     "execution_count": 78,
     "metadata": {},
     "output_type": "execute_result"
    }
   ],
   "source": [
    "same = df['lcb'] == df['rcb']  \n",
    "same.value_counts()"
   ]
  },
  {
   "cell_type": "code",
   "execution_count": 79,
   "id": "b7cd26cd-0dd7-41e0-99f7-8626c22bd6a3",
   "metadata": {},
   "outputs": [
    {
     "data": {
      "text/plain": [
       "True    11701\n",
       "dtype: int64"
      ]
     },
     "execution_count": 79,
     "metadata": {},
     "output_type": "execute_result"
    }
   ],
   "source": [
    "same = df['lcb'] == df['cb']  \n",
    "same.value_counts()"
   ]
  },
  {
   "cell_type": "code",
   "execution_count": 80,
   "id": "37a2822a-1f69-40cf-aa41-795fdff48328",
   "metadata": {},
   "outputs": [],
   "source": [
    "df.drop(['lcb', 'rcb'], axis=1, inplace=True)"
   ]
  },
  {
   "cell_type": "code",
   "execution_count": 81,
   "id": "cbc8380c-76b8-4f91-8a5d-bf73d2c42214",
   "metadata": {},
   "outputs": [
    {
     "data": {
      "text/plain": [
       "False    8993\n",
       "True     2708\n",
       "dtype: int64"
      ]
     },
     "execution_count": 81,
     "metadata": {},
     "output_type": "execute_result"
    }
   ],
   "source": [
    "same = df['cf'] == df['rw']  \n",
    "same.value_counts()"
   ]
  },
  {
   "cell_type": "code",
   "execution_count": 82,
   "id": "e80ba77e-d695-4c66-b1f8-3ce741d1b689",
   "metadata": {},
   "outputs": [
    {
     "data": {
      "text/plain": [
       "True    11701\n",
       "dtype: int64"
      ]
     },
     "execution_count": 82,
     "metadata": {},
     "output_type": "execute_result"
    }
   ],
   "source": [
    "same = df['lw'] == df['rw']  \n",
    "same.value_counts()"
   ]
  },
  {
   "cell_type": "code",
   "execution_count": 83,
   "id": "49fdb8e3-a2d6-4b63-bd84-d2ce9ddaaa2c",
   "metadata": {},
   "outputs": [],
   "source": [
    "df.drop(['rw'], axis=1, inplace=True)"
   ]
  },
  {
   "cell_type": "code",
   "execution_count": 84,
   "id": "cde56038-3f7c-4158-8789-42dee59c6a64",
   "metadata": {},
   "outputs": [],
   "source": [
    "df['test'] = df['club'] + ' ' + df['contract']"
   ]
  },
  {
   "cell_type": "code",
   "execution_count": 85,
   "id": "e20c3099-8c54-452a-bc1d-b2d3fe10d7b4",
   "metadata": {},
   "outputs": [
    {
     "data": {
      "text/plain": [
       "True     11541\n",
       "False      160\n",
       "dtype: int64"
      ]
     },
     "execution_count": 85,
     "metadata": {},
     "output_type": "execute_result"
    }
   ],
   "source": [
    "same = df['test'] == df['team_and_contract']\n",
    "same.value_counts()"
   ]
  },
  {
   "cell_type": "code",
   "execution_count": 86,
   "id": "cf08c431-99ff-4fe8-a443-381c462e7892",
   "metadata": {},
   "outputs": [],
   "source": [
    "df.drop(['test'], axis=1, inplace=True)"
   ]
  },
  {
   "cell_type": "code",
   "execution_count": 87,
   "id": "fd7bdcac-79d8-4f2f-ad7d-7f6e088b085e",
   "metadata": {},
   "outputs": [],
   "source": [
    "df.to_csv('fifa_cleaned.csv')"
   ]
  },
  {
   "cell_type": "code",
   "execution_count": 88,
   "id": "844e0248-4386-493b-a8b7-5cb35280f5be",
   "metadata": {},
   "outputs": [
    {
     "data": {
      "text/plain": [
       "(11701, 84)"
      ]
     },
     "execution_count": 88,
     "metadata": {},
     "output_type": "execute_result"
    }
   ],
   "source": [
    "df.shape"
   ]
  },
  {
   "cell_type": "markdown",
   "id": "5e1c815a-42a7-4913-baad-92601ee167ce",
   "metadata": {
    "tags": []
   },
   "source": [
    "## Check and deal with NaN values."
   ]
  },
  {
   "cell_type": "code",
   "execution_count": 89,
   "id": "830153ee-36ce-4ffd-a290-fb90c5e83ef4",
   "metadata": {},
   "outputs": [],
   "source": [
    "na_cols = df.columns[df.isna().any()]"
   ]
  },
  {
   "cell_type": "code",
   "execution_count": 90,
   "id": "693084a9-e75e-4ccc-bfc9-0968e09b9f36",
   "metadata": {},
   "outputs": [
    {
     "data": {
      "text/plain": [
       "club                 18\n",
       "position            288\n",
       "joined               41\n",
       "loan_date_end     11072\n",
       "volleys              41\n",
       "curve                41\n",
       "agility              41\n",
       "balance              41\n",
       "jumping              41\n",
       "interceptions         7\n",
       "positioning           7\n",
       "vision               41\n",
       "composure           279\n",
       "sliding_tackle       41\n",
       "a_w                  59\n",
       "d_w                  59\n",
       "dtype: int64"
      ]
     },
     "execution_count": 90,
     "metadata": {},
     "output_type": "execute_result"
    }
   ],
   "source": [
    "df[na_cols].isna().sum()"
   ]
  },
  {
   "cell_type": "code",
   "execution_count": 91,
   "id": "c352eaf0-865e-4179-ae78-641b3bc12ca3",
   "metadata": {},
   "outputs": [],
   "source": [
    "#>90% of this column doesn't have a value\n",
    "df.drop(['loan_date_end'], axis=1, inplace=True)"
   ]
  },
  {
   "cell_type": "code",
   "execution_count": 92,
   "id": "06133b59-bd1a-476b-8007-096308de4682",
   "metadata": {},
   "outputs": [],
   "source": [
    "na_cols = df.columns[df.isna().any()]"
   ]
  },
  {
   "cell_type": "code",
   "execution_count": 93,
   "id": "dfc856f3-1879-4a64-a1b6-6a085f732d75",
   "metadata": {},
   "outputs": [
    {
     "data": {
      "text/plain": [
       "club               object\n",
       "position           object\n",
       "joined             object\n",
       "volleys           float64\n",
       "curve             float64\n",
       "agility           float64\n",
       "balance           float64\n",
       "jumping           float64\n",
       "interceptions     float64\n",
       "positioning       float64\n",
       "vision            float64\n",
       "composure         float64\n",
       "sliding_tackle    float64\n",
       "a_w                object\n",
       "d_w                object\n",
       "dtype: object"
      ]
     },
     "execution_count": 93,
     "metadata": {},
     "output_type": "execute_result"
    }
   ],
   "source": [
    "df[na_cols].dtypes"
   ]
  },
  {
   "cell_type": "code",
   "execution_count": 94,
   "id": "c30452b8-47bc-423c-a479-e018a8f22f2d",
   "metadata": {},
   "outputs": [
    {
     "data": {
      "text/html": [
       "<div>\n",
       "<style scoped>\n",
       "    .dataframe tbody tr th:only-of-type {\n",
       "        vertical-align: middle;\n",
       "    }\n",
       "\n",
       "    .dataframe tbody tr th {\n",
       "        vertical-align: top;\n",
       "    }\n",
       "\n",
       "    .dataframe thead th {\n",
       "        text-align: right;\n",
       "    }\n",
       "</style>\n",
       "<table border=\"1\" class=\"dataframe\">\n",
       "  <thead>\n",
       "    <tr style=\"text-align: right;\">\n",
       "      <th></th>\n",
       "      <th>count</th>\n",
       "      <th>mean</th>\n",
       "      <th>std</th>\n",
       "      <th>min</th>\n",
       "      <th>25%</th>\n",
       "      <th>50%</th>\n",
       "      <th>75%</th>\n",
       "      <th>max</th>\n",
       "      <th>iqr</th>\n",
       "      <th>range</th>\n",
       "    </tr>\n",
       "  </thead>\n",
       "  <tbody>\n",
       "    <tr>\n",
       "      <th>age</th>\n",
       "      <td>11701.0</td>\n",
       "      <td>25.27</td>\n",
       "      <td>4.96</td>\n",
       "      <td>16.0</td>\n",
       "      <td>21.0</td>\n",
       "      <td>25.0</td>\n",
       "      <td>29.0</td>\n",
       "      <td>43.0</td>\n",
       "      <td>8.0</td>\n",
       "      <td>27.0</td>\n",
       "    </tr>\n",
       "    <tr>\n",
       "      <th>growth</th>\n",
       "      <td>11701.0</td>\n",
       "      <td>5.53</td>\n",
       "      <td>5.81</td>\n",
       "      <td>-1.0</td>\n",
       "      <td>0.0</td>\n",
       "      <td>4.0</td>\n",
       "      <td>10.0</td>\n",
       "      <td>26.0</td>\n",
       "      <td>10.0</td>\n",
       "      <td>27.0</td>\n",
       "    </tr>\n",
       "    <tr>\n",
       "      <th>attacking</th>\n",
       "      <td>11701.0</td>\n",
       "      <td>258.48</td>\n",
       "      <td>72.27</td>\n",
       "      <td>33.0</td>\n",
       "      <td>232.0</td>\n",
       "      <td>271.0</td>\n",
       "      <td>306.0</td>\n",
       "      <td>437.0</td>\n",
       "      <td>74.0</td>\n",
       "      <td>404.0</td>\n",
       "    </tr>\n",
       "    <tr>\n",
       "      <th>crossing</th>\n",
       "      <td>11701.0</td>\n",
       "      <td>51.59</td>\n",
       "      <td>17.87</td>\n",
       "      <td>6.0</td>\n",
       "      <td>41.0</td>\n",
       "      <td>56.0</td>\n",
       "      <td>65.0</td>\n",
       "      <td>94.0</td>\n",
       "      <td>24.0</td>\n",
       "      <td>88.0</td>\n",
       "    </tr>\n",
       "    <tr>\n",
       "      <th>finishing</th>\n",
       "      <td>11701.0</td>\n",
       "      <td>48.05</td>\n",
       "      <td>19.40</td>\n",
       "      <td>3.0</td>\n",
       "      <td>33.0</td>\n",
       "      <td>52.0</td>\n",
       "      <td>64.0</td>\n",
       "      <td>95.0</td>\n",
       "      <td>31.0</td>\n",
       "      <td>92.0</td>\n",
       "    </tr>\n",
       "    <tr>\n",
       "      <th>heading_accuracy</th>\n",
       "      <td>11701.0</td>\n",
       "      <td>53.49</td>\n",
       "      <td>16.96</td>\n",
       "      <td>5.0</td>\n",
       "      <td>46.0</td>\n",
       "      <td>56.0</td>\n",
       "      <td>65.0</td>\n",
       "      <td>93.0</td>\n",
       "      <td>19.0</td>\n",
       "      <td>88.0</td>\n",
       "    </tr>\n",
       "    <tr>\n",
       "      <th>short_passing</th>\n",
       "      <td>11701.0</td>\n",
       "      <td>60.44</td>\n",
       "      <td>13.97</td>\n",
       "      <td>8.0</td>\n",
       "      <td>56.0</td>\n",
       "      <td>63.0</td>\n",
       "      <td>69.0</td>\n",
       "      <td>94.0</td>\n",
       "      <td>13.0</td>\n",
       "      <td>86.0</td>\n",
       "    </tr>\n",
       "    <tr>\n",
       "      <th>volleys</th>\n",
       "      <td>11660.0</td>\n",
       "      <td>45.07</td>\n",
       "      <td>17.73</td>\n",
       "      <td>4.0</td>\n",
       "      <td>32.0</td>\n",
       "      <td>47.0</td>\n",
       "      <td>59.0</td>\n",
       "      <td>90.0</td>\n",
       "      <td>27.0</td>\n",
       "      <td>86.0</td>\n",
       "    </tr>\n",
       "    <tr>\n",
       "      <th>skill</th>\n",
       "      <td>11701.0</td>\n",
       "      <td>266.50</td>\n",
       "      <td>76.84</td>\n",
       "      <td>43.0</td>\n",
       "      <td>232.0</td>\n",
       "      <td>279.0</td>\n",
       "      <td>319.0</td>\n",
       "      <td>470.0</td>\n",
       "      <td>87.0</td>\n",
       "      <td>427.0</td>\n",
       "    </tr>\n",
       "    <tr>\n",
       "      <th>dribbling</th>\n",
       "      <td>11701.0</td>\n",
       "      <td>57.85</td>\n",
       "      <td>18.05</td>\n",
       "      <td>5.0</td>\n",
       "      <td>53.0</td>\n",
       "      <td>63.0</td>\n",
       "      <td>70.0</td>\n",
       "      <td>96.0</td>\n",
       "      <td>17.0</td>\n",
       "      <td>91.0</td>\n",
       "    </tr>\n",
       "    <tr>\n",
       "      <th>curve</th>\n",
       "      <td>11660.0</td>\n",
       "      <td>49.62</td>\n",
       "      <td>18.18</td>\n",
       "      <td>4.0</td>\n",
       "      <td>37.0</td>\n",
       "      <td>52.0</td>\n",
       "      <td>64.0</td>\n",
       "      <td>94.0</td>\n",
       "      <td>27.0</td>\n",
       "      <td>90.0</td>\n",
       "    </tr>\n",
       "    <tr>\n",
       "      <th>fk_accuracy</th>\n",
       "      <td>11701.0</td>\n",
       "      <td>44.36</td>\n",
       "      <td>17.48</td>\n",
       "      <td>5.0</td>\n",
       "      <td>32.0</td>\n",
       "      <td>43.0</td>\n",
       "      <td>58.0</td>\n",
       "      <td>94.0</td>\n",
       "      <td>26.0</td>\n",
       "      <td>89.0</td>\n",
       "    </tr>\n",
       "    <tr>\n",
       "      <th>long_passing</th>\n",
       "      <td>11701.0</td>\n",
       "      <td>54.21</td>\n",
       "      <td>14.89</td>\n",
       "      <td>9.0</td>\n",
       "      <td>45.0</td>\n",
       "      <td>57.0</td>\n",
       "      <td>65.0</td>\n",
       "      <td>93.0</td>\n",
       "      <td>20.0</td>\n",
       "      <td>84.0</td>\n",
       "    </tr>\n",
       "    <tr>\n",
       "      <th>ball_control</th>\n",
       "      <td>11701.0</td>\n",
       "      <td>60.63</td>\n",
       "      <td>15.89</td>\n",
       "      <td>5.0</td>\n",
       "      <td>57.0</td>\n",
       "      <td>64.0</td>\n",
       "      <td>70.0</td>\n",
       "      <td>96.0</td>\n",
       "      <td>13.0</td>\n",
       "      <td>91.0</td>\n",
       "    </tr>\n",
       "    <tr>\n",
       "      <th>movement</th>\n",
       "      <td>11701.0</td>\n",
       "      <td>322.62</td>\n",
       "      <td>55.33</td>\n",
       "      <td>113.0</td>\n",
       "      <td>294.0</td>\n",
       "      <td>331.0</td>\n",
       "      <td>361.0</td>\n",
       "      <td>464.0</td>\n",
       "      <td>67.0</td>\n",
       "      <td>351.0</td>\n",
       "    </tr>\n",
       "    <tr>\n",
       "      <th>acceleration</th>\n",
       "      <td>11701.0</td>\n",
       "      <td>65.43</td>\n",
       "      <td>14.74</td>\n",
       "      <td>13.0</td>\n",
       "      <td>58.0</td>\n",
       "      <td>68.0</td>\n",
       "      <td>76.0</td>\n",
       "      <td>97.0</td>\n",
       "      <td>18.0</td>\n",
       "      <td>84.0</td>\n",
       "    </tr>\n",
       "    <tr>\n",
       "      <th>sprint_speed</th>\n",
       "      <td>11701.0</td>\n",
       "      <td>65.45</td>\n",
       "      <td>14.52</td>\n",
       "      <td>11.0</td>\n",
       "      <td>59.0</td>\n",
       "      <td>68.0</td>\n",
       "      <td>75.0</td>\n",
       "      <td>96.0</td>\n",
       "      <td>16.0</td>\n",
       "      <td>85.0</td>\n",
       "    </tr>\n",
       "    <tr>\n",
       "      <th>agility</th>\n",
       "      <td>11660.0</td>\n",
       "      <td>64.58</td>\n",
       "      <td>14.48</td>\n",
       "      <td>14.0</td>\n",
       "      <td>57.0</td>\n",
       "      <td>67.0</td>\n",
       "      <td>75.0</td>\n",
       "      <td>96.0</td>\n",
       "      <td>18.0</td>\n",
       "      <td>82.0</td>\n",
       "    </tr>\n",
       "    <tr>\n",
       "      <th>reactions</th>\n",
       "      <td>11701.0</td>\n",
       "      <td>62.90</td>\n",
       "      <td>9.02</td>\n",
       "      <td>24.0</td>\n",
       "      <td>57.0</td>\n",
       "      <td>63.0</td>\n",
       "      <td>69.0</td>\n",
       "      <td>96.0</td>\n",
       "      <td>12.0</td>\n",
       "      <td>72.0</td>\n",
       "    </tr>\n",
       "    <tr>\n",
       "      <th>balance</th>\n",
       "      <td>11660.0</td>\n",
       "      <td>64.71</td>\n",
       "      <td>14.13</td>\n",
       "      <td>17.0</td>\n",
       "      <td>57.0</td>\n",
       "      <td>67.0</td>\n",
       "      <td>75.0</td>\n",
       "      <td>97.0</td>\n",
       "      <td>18.0</td>\n",
       "      <td>80.0</td>\n",
       "    </tr>\n",
       "    <tr>\n",
       "      <th>power</th>\n",
       "      <td>11701.0</td>\n",
       "      <td>302.08</td>\n",
       "      <td>49.70</td>\n",
       "      <td>133.0</td>\n",
       "      <td>271.0</td>\n",
       "      <td>308.0</td>\n",
       "      <td>339.0</td>\n",
       "      <td>444.0</td>\n",
       "      <td>68.0</td>\n",
       "      <td>311.0</td>\n",
       "    </tr>\n",
       "    <tr>\n",
       "      <th>shot_power</th>\n",
       "      <td>11701.0</td>\n",
       "      <td>59.73</td>\n",
       "      <td>13.51</td>\n",
       "      <td>12.0</td>\n",
       "      <td>50.0</td>\n",
       "      <td>61.0</td>\n",
       "      <td>70.0</td>\n",
       "      <td>95.0</td>\n",
       "      <td>20.0</td>\n",
       "      <td>83.0</td>\n",
       "    </tr>\n",
       "    <tr>\n",
       "      <th>jumping</th>\n",
       "      <td>11660.0</td>\n",
       "      <td>65.04</td>\n",
       "      <td>12.02</td>\n",
       "      <td>25.0</td>\n",
       "      <td>58.0</td>\n",
       "      <td>66.0</td>\n",
       "      <td>73.0</td>\n",
       "      <td>95.0</td>\n",
       "      <td>15.0</td>\n",
       "      <td>70.0</td>\n",
       "    </tr>\n",
       "    <tr>\n",
       "      <th>stamina</th>\n",
       "      <td>11701.0</td>\n",
       "      <td>63.21</td>\n",
       "      <td>15.35</td>\n",
       "      <td>12.0</td>\n",
       "      <td>56.0</td>\n",
       "      <td>66.0</td>\n",
       "      <td>73.0</td>\n",
       "      <td>97.0</td>\n",
       "      <td>17.0</td>\n",
       "      <td>85.0</td>\n",
       "    </tr>\n",
       "    <tr>\n",
       "      <th>strength</th>\n",
       "      <td>11701.0</td>\n",
       "      <td>65.17</td>\n",
       "      <td>12.77</td>\n",
       "      <td>20.0</td>\n",
       "      <td>58.0</td>\n",
       "      <td>66.0</td>\n",
       "      <td>74.0</td>\n",
       "      <td>97.0</td>\n",
       "      <td>16.0</td>\n",
       "      <td>77.0</td>\n",
       "    </tr>\n",
       "    <tr>\n",
       "      <th>long_shots</th>\n",
       "      <td>11701.0</td>\n",
       "      <td>49.16</td>\n",
       "      <td>19.06</td>\n",
       "      <td>4.0</td>\n",
       "      <td>35.0</td>\n",
       "      <td>54.0</td>\n",
       "      <td>64.0</td>\n",
       "      <td>94.0</td>\n",
       "      <td>29.0</td>\n",
       "      <td>90.0</td>\n",
       "    </tr>\n",
       "    <tr>\n",
       "      <th>mentality</th>\n",
       "      <td>11701.0</td>\n",
       "      <td>261.70</td>\n",
       "      <td>62.94</td>\n",
       "      <td>55.0</td>\n",
       "      <td>235.0</td>\n",
       "      <td>269.0</td>\n",
       "      <td>304.0</td>\n",
       "      <td>414.0</td>\n",
       "      <td>69.0</td>\n",
       "      <td>359.0</td>\n",
       "    </tr>\n",
       "    <tr>\n",
       "      <th>aggression</th>\n",
       "      <td>11701.0</td>\n",
       "      <td>56.94</td>\n",
       "      <td>17.07</td>\n",
       "      <td>9.0</td>\n",
       "      <td>45.0</td>\n",
       "      <td>60.0</td>\n",
       "      <td>70.0</td>\n",
       "      <td>96.0</td>\n",
       "      <td>25.0</td>\n",
       "      <td>87.0</td>\n",
       "    </tr>\n",
       "    <tr>\n",
       "      <th>interceptions</th>\n",
       "      <td>11694.0</td>\n",
       "      <td>46.82</td>\n",
       "      <td>20.81</td>\n",
       "      <td>5.0</td>\n",
       "      <td>26.0</td>\n",
       "      <td>52.0</td>\n",
       "      <td>65.0</td>\n",
       "      <td>95.0</td>\n",
       "      <td>39.0</td>\n",
       "      <td>90.0</td>\n",
       "    </tr>\n",
       "    <tr>\n",
       "      <th>positioning</th>\n",
       "      <td>11694.0</td>\n",
       "      <td>52.49</td>\n",
       "      <td>19.07</td>\n",
       "      <td>2.0</td>\n",
       "      <td>43.0</td>\n",
       "      <td>57.0</td>\n",
       "      <td>66.0</td>\n",
       "      <td>96.0</td>\n",
       "      <td>23.0</td>\n",
       "      <td>94.0</td>\n",
       "    </tr>\n",
       "    <tr>\n",
       "      <th>vision</th>\n",
       "      <td>11660.0</td>\n",
       "      <td>55.44</td>\n",
       "      <td>13.70</td>\n",
       "      <td>10.0</td>\n",
       "      <td>47.0</td>\n",
       "      <td>57.0</td>\n",
       "      <td>65.0</td>\n",
       "      <td>95.0</td>\n",
       "      <td>18.0</td>\n",
       "      <td>85.0</td>\n",
       "    </tr>\n",
       "    <tr>\n",
       "      <th>penalties</th>\n",
       "      <td>11701.0</td>\n",
       "      <td>50.28</td>\n",
       "      <td>15.71</td>\n",
       "      <td>8.0</td>\n",
       "      <td>40.0</td>\n",
       "      <td>51.0</td>\n",
       "      <td>62.0</td>\n",
       "      <td>94.0</td>\n",
       "      <td>22.0</td>\n",
       "      <td>86.0</td>\n",
       "    </tr>\n",
       "    <tr>\n",
       "      <th>composure</th>\n",
       "      <td>11422.0</td>\n",
       "      <td>59.95</td>\n",
       "      <td>11.77</td>\n",
       "      <td>12.0</td>\n",
       "      <td>53.0</td>\n",
       "      <td>61.0</td>\n",
       "      <td>68.0</td>\n",
       "      <td>96.0</td>\n",
       "      <td>15.0</td>\n",
       "      <td>84.0</td>\n",
       "    </tr>\n",
       "    <tr>\n",
       "      <th>defending</th>\n",
       "      <td>11701.0</td>\n",
       "      <td>140.67</td>\n",
       "      <td>61.60</td>\n",
       "      <td>17.0</td>\n",
       "      <td>83.0</td>\n",
       "      <td>156.0</td>\n",
       "      <td>194.0</td>\n",
       "      <td>267.0</td>\n",
       "      <td>111.0</td>\n",
       "      <td>250.0</td>\n",
       "    </tr>\n",
       "    <tr>\n",
       "      <th>marking</th>\n",
       "      <td>11701.0</td>\n",
       "      <td>46.96</td>\n",
       "      <td>20.19</td>\n",
       "      <td>3.0</td>\n",
       "      <td>29.0</td>\n",
       "      <td>52.0</td>\n",
       "      <td>64.0</td>\n",
       "      <td>92.0</td>\n",
       "      <td>35.0</td>\n",
       "      <td>89.0</td>\n",
       "    </tr>\n",
       "    <tr>\n",
       "      <th>standing_tackle</th>\n",
       "      <td>11701.0</td>\n",
       "      <td>48.04</td>\n",
       "      <td>21.47</td>\n",
       "      <td>6.0</td>\n",
       "      <td>28.0</td>\n",
       "      <td>55.0</td>\n",
       "      <td>66.0</td>\n",
       "      <td>90.0</td>\n",
       "      <td>38.0</td>\n",
       "      <td>84.0</td>\n",
       "    </tr>\n",
       "    <tr>\n",
       "      <th>sliding_tackle</th>\n",
       "      <td>11660.0</td>\n",
       "      <td>45.83</td>\n",
       "      <td>21.22</td>\n",
       "      <td>6.0</td>\n",
       "      <td>25.0</td>\n",
       "      <td>52.0</td>\n",
       "      <td>64.0</td>\n",
       "      <td>90.0</td>\n",
       "      <td>39.0</td>\n",
       "      <td>84.0</td>\n",
       "    </tr>\n",
       "    <tr>\n",
       "      <th>goalkeeping</th>\n",
       "      <td>11701.0</td>\n",
       "      <td>77.73</td>\n",
       "      <td>81.22</td>\n",
       "      <td>12.0</td>\n",
       "      <td>48.0</td>\n",
       "      <td>53.0</td>\n",
       "      <td>59.0</td>\n",
       "      <td>439.0</td>\n",
       "      <td>11.0</td>\n",
       "      <td>427.0</td>\n",
       "    </tr>\n",
       "    <tr>\n",
       "      <th>gk_diving</th>\n",
       "      <td>11701.0</td>\n",
       "      <td>15.60</td>\n",
       "      <td>16.85</td>\n",
       "      <td>1.0</td>\n",
       "      <td>8.0</td>\n",
       "      <td>11.0</td>\n",
       "      <td>14.0</td>\n",
       "      <td>90.0</td>\n",
       "      <td>6.0</td>\n",
       "      <td>89.0</td>\n",
       "    </tr>\n",
       "    <tr>\n",
       "      <th>gk_handling</th>\n",
       "      <td>11701.0</td>\n",
       "      <td>15.52</td>\n",
       "      <td>16.16</td>\n",
       "      <td>2.0</td>\n",
       "      <td>8.0</td>\n",
       "      <td>11.0</td>\n",
       "      <td>14.0</td>\n",
       "      <td>88.0</td>\n",
       "      <td>6.0</td>\n",
       "      <td>86.0</td>\n",
       "    </tr>\n",
       "    <tr>\n",
       "      <th>gk_kicking</th>\n",
       "      <td>11701.0</td>\n",
       "      <td>15.49</td>\n",
       "      <td>16.01</td>\n",
       "      <td>2.0</td>\n",
       "      <td>8.0</td>\n",
       "      <td>11.0</td>\n",
       "      <td>14.0</td>\n",
       "      <td>88.0</td>\n",
       "      <td>6.0</td>\n",
       "      <td>86.0</td>\n",
       "    </tr>\n",
       "    <tr>\n",
       "      <th>gk_positioning</th>\n",
       "      <td>11701.0</td>\n",
       "      <td>15.54</td>\n",
       "      <td>16.41</td>\n",
       "      <td>2.0</td>\n",
       "      <td>8.0</td>\n",
       "      <td>11.0</td>\n",
       "      <td>14.0</td>\n",
       "      <td>93.0</td>\n",
       "      <td>6.0</td>\n",
       "      <td>91.0</td>\n",
       "    </tr>\n",
       "    <tr>\n",
       "      <th>gk_reflexes</th>\n",
       "      <td>11701.0</td>\n",
       "      <td>15.77</td>\n",
       "      <td>17.15</td>\n",
       "      <td>1.0</td>\n",
       "      <td>8.0</td>\n",
       "      <td>11.0</td>\n",
       "      <td>14.0</td>\n",
       "      <td>90.0</td>\n",
       "      <td>6.0</td>\n",
       "      <td>89.0</td>\n",
       "    </tr>\n",
       "    <tr>\n",
       "      <th>total_stats</th>\n",
       "      <td>11701.0</td>\n",
       "      <td>1629.79</td>\n",
       "      <td>260.77</td>\n",
       "      <td>731.0</td>\n",
       "      <td>1490.0</td>\n",
       "      <td>1659.0</td>\n",
       "      <td>1811.0</td>\n",
       "      <td>2304.0</td>\n",
       "      <td>321.0</td>\n",
       "      <td>1573.0</td>\n",
       "    </tr>\n",
       "    <tr>\n",
       "      <th>base_stats</th>\n",
       "      <td>11701.0</td>\n",
       "      <td>361.11</td>\n",
       "      <td>40.32</td>\n",
       "      <td>228.0</td>\n",
       "      <td>333.0</td>\n",
       "      <td>362.0</td>\n",
       "      <td>389.0</td>\n",
       "      <td>490.0</td>\n",
       "      <td>56.0</td>\n",
       "      <td>262.0</td>\n",
       "    </tr>\n",
       "    <tr>\n",
       "      <th>pac</th>\n",
       "      <td>11701.0</td>\n",
       "      <td>68.10</td>\n",
       "      <td>11.25</td>\n",
       "      <td>26.0</td>\n",
       "      <td>62.0</td>\n",
       "      <td>69.0</td>\n",
       "      <td>76.0</td>\n",
       "      <td>96.0</td>\n",
       "      <td>14.0</td>\n",
       "      <td>70.0</td>\n",
       "    </tr>\n",
       "    <tr>\n",
       "      <th>sho</th>\n",
       "      <td>11701.0</td>\n",
       "      <td>55.05</td>\n",
       "      <td>13.85</td>\n",
       "      <td>17.0</td>\n",
       "      <td>46.0</td>\n",
       "      <td>58.0</td>\n",
       "      <td>65.0</td>\n",
       "      <td>93.0</td>\n",
       "      <td>19.0</td>\n",
       "      <td>76.0</td>\n",
       "    </tr>\n",
       "    <tr>\n",
       "      <th>pas</th>\n",
       "      <td>11701.0</td>\n",
       "      <td>58.89</td>\n",
       "      <td>10.17</td>\n",
       "      <td>25.0</td>\n",
       "      <td>52.0</td>\n",
       "      <td>59.0</td>\n",
       "      <td>66.0</td>\n",
       "      <td>93.0</td>\n",
       "      <td>14.0</td>\n",
       "      <td>68.0</td>\n",
       "    </tr>\n",
       "    <tr>\n",
       "      <th>dri</th>\n",
       "      <td>11701.0</td>\n",
       "      <td>64.22</td>\n",
       "      <td>9.82</td>\n",
       "      <td>28.0</td>\n",
       "      <td>59.0</td>\n",
       "      <td>65.0</td>\n",
       "      <td>71.0</td>\n",
       "      <td>95.0</td>\n",
       "      <td>12.0</td>\n",
       "      <td>67.0</td>\n",
       "    </tr>\n",
       "    <tr>\n",
       "      <th>def</th>\n",
       "      <td>11701.0</td>\n",
       "      <td>50.03</td>\n",
       "      <td>16.84</td>\n",
       "      <td>12.0</td>\n",
       "      <td>35.0</td>\n",
       "      <td>53.0</td>\n",
       "      <td>64.0</td>\n",
       "      <td>89.0</td>\n",
       "      <td>29.0</td>\n",
       "      <td>77.0</td>\n",
       "    </tr>\n",
       "    <tr>\n",
       "      <th>phy</th>\n",
       "      <td>11701.0</td>\n",
       "      <td>64.82</td>\n",
       "      <td>9.76</td>\n",
       "      <td>27.0</td>\n",
       "      <td>59.0</td>\n",
       "      <td>66.0</td>\n",
       "      <td>72.0</td>\n",
       "      <td>93.0</td>\n",
       "      <td>13.0</td>\n",
       "      <td>66.0</td>\n",
       "    </tr>\n",
       "    <tr>\n",
       "      <th>ova</th>\n",
       "      <td>11701.0</td>\n",
       "      <td>66.92</td>\n",
       "      <td>6.88</td>\n",
       "      <td>38.0</td>\n",
       "      <td>62.0</td>\n",
       "      <td>67.0</td>\n",
       "      <td>72.0</td>\n",
       "      <td>93.0</td>\n",
       "      <td>10.0</td>\n",
       "      <td>55.0</td>\n",
       "    </tr>\n",
       "  </tbody>\n",
       "</table>\n",
       "</div>"
      ],
      "text/plain": [
       "                    count     mean     std    min     25%     50%     75%  \\\n",
       "age               11701.0    25.27    4.96   16.0    21.0    25.0    29.0   \n",
       "growth            11701.0     5.53    5.81   -1.0     0.0     4.0    10.0   \n",
       "attacking         11701.0   258.48   72.27   33.0   232.0   271.0   306.0   \n",
       "crossing          11701.0    51.59   17.87    6.0    41.0    56.0    65.0   \n",
       "finishing         11701.0    48.05   19.40    3.0    33.0    52.0    64.0   \n",
       "heading_accuracy  11701.0    53.49   16.96    5.0    46.0    56.0    65.0   \n",
       "short_passing     11701.0    60.44   13.97    8.0    56.0    63.0    69.0   \n",
       "volleys           11660.0    45.07   17.73    4.0    32.0    47.0    59.0   \n",
       "skill             11701.0   266.50   76.84   43.0   232.0   279.0   319.0   \n",
       "dribbling         11701.0    57.85   18.05    5.0    53.0    63.0    70.0   \n",
       "curve             11660.0    49.62   18.18    4.0    37.0    52.0    64.0   \n",
       "fk_accuracy       11701.0    44.36   17.48    5.0    32.0    43.0    58.0   \n",
       "long_passing      11701.0    54.21   14.89    9.0    45.0    57.0    65.0   \n",
       "ball_control      11701.0    60.63   15.89    5.0    57.0    64.0    70.0   \n",
       "movement          11701.0   322.62   55.33  113.0   294.0   331.0   361.0   \n",
       "acceleration      11701.0    65.43   14.74   13.0    58.0    68.0    76.0   \n",
       "sprint_speed      11701.0    65.45   14.52   11.0    59.0    68.0    75.0   \n",
       "agility           11660.0    64.58   14.48   14.0    57.0    67.0    75.0   \n",
       "reactions         11701.0    62.90    9.02   24.0    57.0    63.0    69.0   \n",
       "balance           11660.0    64.71   14.13   17.0    57.0    67.0    75.0   \n",
       "power             11701.0   302.08   49.70  133.0   271.0   308.0   339.0   \n",
       "shot_power        11701.0    59.73   13.51   12.0    50.0    61.0    70.0   \n",
       "jumping           11660.0    65.04   12.02   25.0    58.0    66.0    73.0   \n",
       "stamina           11701.0    63.21   15.35   12.0    56.0    66.0    73.0   \n",
       "strength          11701.0    65.17   12.77   20.0    58.0    66.0    74.0   \n",
       "long_shots        11701.0    49.16   19.06    4.0    35.0    54.0    64.0   \n",
       "mentality         11701.0   261.70   62.94   55.0   235.0   269.0   304.0   \n",
       "aggression        11701.0    56.94   17.07    9.0    45.0    60.0    70.0   \n",
       "interceptions     11694.0    46.82   20.81    5.0    26.0    52.0    65.0   \n",
       "positioning       11694.0    52.49   19.07    2.0    43.0    57.0    66.0   \n",
       "vision            11660.0    55.44   13.70   10.0    47.0    57.0    65.0   \n",
       "penalties         11701.0    50.28   15.71    8.0    40.0    51.0    62.0   \n",
       "composure         11422.0    59.95   11.77   12.0    53.0    61.0    68.0   \n",
       "defending         11701.0   140.67   61.60   17.0    83.0   156.0   194.0   \n",
       "marking           11701.0    46.96   20.19    3.0    29.0    52.0    64.0   \n",
       "standing_tackle   11701.0    48.04   21.47    6.0    28.0    55.0    66.0   \n",
       "sliding_tackle    11660.0    45.83   21.22    6.0    25.0    52.0    64.0   \n",
       "goalkeeping       11701.0    77.73   81.22   12.0    48.0    53.0    59.0   \n",
       "gk_diving         11701.0    15.60   16.85    1.0     8.0    11.0    14.0   \n",
       "gk_handling       11701.0    15.52   16.16    2.0     8.0    11.0    14.0   \n",
       "gk_kicking        11701.0    15.49   16.01    2.0     8.0    11.0    14.0   \n",
       "gk_positioning    11701.0    15.54   16.41    2.0     8.0    11.0    14.0   \n",
       "gk_reflexes       11701.0    15.77   17.15    1.0     8.0    11.0    14.0   \n",
       "total_stats       11701.0  1629.79  260.77  731.0  1490.0  1659.0  1811.0   \n",
       "base_stats        11701.0   361.11   40.32  228.0   333.0   362.0   389.0   \n",
       "pac               11701.0    68.10   11.25   26.0    62.0    69.0    76.0   \n",
       "sho               11701.0    55.05   13.85   17.0    46.0    58.0    65.0   \n",
       "pas               11701.0    58.89   10.17   25.0    52.0    59.0    66.0   \n",
       "dri               11701.0    64.22    9.82   28.0    59.0    65.0    71.0   \n",
       "def               11701.0    50.03   16.84   12.0    35.0    53.0    64.0   \n",
       "phy               11701.0    64.82    9.76   27.0    59.0    66.0    72.0   \n",
       "ova               11701.0    66.92    6.88   38.0    62.0    67.0    72.0   \n",
       "\n",
       "                     max    iqr   range  \n",
       "age                 43.0    8.0    27.0  \n",
       "growth              26.0   10.0    27.0  \n",
       "attacking          437.0   74.0   404.0  \n",
       "crossing            94.0   24.0    88.0  \n",
       "finishing           95.0   31.0    92.0  \n",
       "heading_accuracy    93.0   19.0    88.0  \n",
       "short_passing       94.0   13.0    86.0  \n",
       "volleys             90.0   27.0    86.0  \n",
       "skill              470.0   87.0   427.0  \n",
       "dribbling           96.0   17.0    91.0  \n",
       "curve               94.0   27.0    90.0  \n",
       "fk_accuracy         94.0   26.0    89.0  \n",
       "long_passing        93.0   20.0    84.0  \n",
       "ball_control        96.0   13.0    91.0  \n",
       "movement           464.0   67.0   351.0  \n",
       "acceleration        97.0   18.0    84.0  \n",
       "sprint_speed        96.0   16.0    85.0  \n",
       "agility             96.0   18.0    82.0  \n",
       "reactions           96.0   12.0    72.0  \n",
       "balance             97.0   18.0    80.0  \n",
       "power              444.0   68.0   311.0  \n",
       "shot_power          95.0   20.0    83.0  \n",
       "jumping             95.0   15.0    70.0  \n",
       "stamina             97.0   17.0    85.0  \n",
       "strength            97.0   16.0    77.0  \n",
       "long_shots          94.0   29.0    90.0  \n",
       "mentality          414.0   69.0   359.0  \n",
       "aggression          96.0   25.0    87.0  \n",
       "interceptions       95.0   39.0    90.0  \n",
       "positioning         96.0   23.0    94.0  \n",
       "vision              95.0   18.0    85.0  \n",
       "penalties           94.0   22.0    86.0  \n",
       "composure           96.0   15.0    84.0  \n",
       "defending          267.0  111.0   250.0  \n",
       "marking             92.0   35.0    89.0  \n",
       "standing_tackle     90.0   38.0    84.0  \n",
       "sliding_tackle      90.0   39.0    84.0  \n",
       "goalkeeping        439.0   11.0   427.0  \n",
       "gk_diving           90.0    6.0    89.0  \n",
       "gk_handling         88.0    6.0    86.0  \n",
       "gk_kicking          88.0    6.0    86.0  \n",
       "gk_positioning      93.0    6.0    91.0  \n",
       "gk_reflexes         90.0    6.0    89.0  \n",
       "total_stats       2304.0  321.0  1573.0  \n",
       "base_stats         490.0   56.0   262.0  \n",
       "pac                 96.0   14.0    70.0  \n",
       "sho                 93.0   19.0    76.0  \n",
       "pas                 93.0   14.0    68.0  \n",
       "dri                 95.0   12.0    67.0  \n",
       "def                 89.0   29.0    77.0  \n",
       "phy                 93.0   13.0    66.0  \n",
       "ova                 93.0   10.0    55.0  "
      ]
     },
     "execution_count": 94,
     "metadata": {},
     "output_type": "execute_result"
    }
   ],
   "source": [
    "summary = df.describe().T\n",
    "summary['iqr'] = summary['75%']-summary['25%'] # adds Interquartile Range\n",
    "summary['range'] = summary['max'] - summary['min'] # adds range# \n",
    "\n",
    "for col in summary.columns: # rounds all values in summary\n",
    "    summary[col] = summary[col].apply(lambda x : round(x, 2))\n",
    "summary"
   ]
  },
  {
   "cell_type": "code",
   "execution_count": 97,
   "id": "c7872a43-db0b-4824-a298-27c3f16967f7",
   "metadata": {},
   "outputs": [],
   "source": [
    "# Replace numerical values with the mean\n",
    "# mean & median have been quite similar \n",
    "for col in na_cols:\n",
    "    if df[col].dtypes == 'float64' or df[col].dtypes == 'int64':\n",
    "        df[col].fillna(np.mean(df[col]), inplace=True)"
   ]
  },
  {
   "cell_type": "code",
   "execution_count": 98,
   "id": "50c8eb94-fae4-4947-8e0b-50118fb45e9a",
   "metadata": {},
   "outputs": [],
   "source": [
    "# Replace categorical values with the mode\n",
    "for col in na_cols:\n",
    "    if df[col].dtypes == 'object':\n",
    "        df[col].fillna('unknown', inplace=True)"
   ]
  },
  {
   "cell_type": "code",
   "execution_count": 99,
   "id": "f201a79b-5a61-4aca-9a73-7b18bd82f318",
   "metadata": {},
   "outputs": [
    {
     "data": {
      "text/plain": [
       "Series([], dtype: float64)"
      ]
     },
     "execution_count": 99,
     "metadata": {},
     "output_type": "execute_result"
    }
   ],
   "source": [
    "na_cols = df.columns[df.isna().any()]\n",
    "df[na_cols].isna().sum()"
   ]
  },
  {
   "cell_type": "markdown",
   "id": "fcb2550d-603e-4596-ba49-e1b61910db0c",
   "metadata": {},
   "source": [
    "## convert to Datetime"
   ]
  },
  {
   "cell_type": "code",
   "execution_count": null,
   "id": "8ba00f6e-bd6f-4f26-9297-3a781b98242e",
   "metadata": {},
   "outputs": [],
   "source": [
    "df['effective_to_date'] = pd.to_datetime(df['effective_to_date'], errors='coerce')"
   ]
  }
 ],
 "metadata": {
  "kernelspec": {
   "display_name": "Python 3 (ipykernel)",
   "language": "python",
   "name": "python3"
  },
  "language_info": {
   "codemirror_mode": {
    "name": "ipython",
    "version": 3
   },
   "file_extension": ".py",
   "mimetype": "text/x-python",
   "name": "python",
   "nbconvert_exporter": "python",
   "pygments_lexer": "ipython3",
   "version": "3.8.5"
  }
 },
 "nbformat": 4,
 "nbformat_minor": 5
}
